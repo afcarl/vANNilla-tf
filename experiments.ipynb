{
 "cells": [
  {
   "cell_type": "code",
   "execution_count": 4,
   "metadata": {
    "collapsed": false
   },
   "outputs": [],
   "source": [
    "import numpy as np\n",
    "import tensorflow as tf\n",
    "import pandas as pd\n",
    "import matplotlib.pyplot as plt\n",
    "import itertools\n",
    "\n",
    "TRAINING_DATA = './assignment/train_potus_by_county.csv'\n",
    "# TODO: TRAINING VS VALIDATION DATA"
   ]
  },
  {
   "cell_type": "code",
   "execution_count": null,
   "metadata": {
    "collapsed": false
   },
   "outputs": [],
   "source": [
    "def loadData(file_in):\n",
    "    with open(file_in) as f:\n",
    "        fields = f.readline().strip().split(',')\n",
    "        raw_array = np.array([line.split(',') for line in f.read().strip().split('\\n')])\n",
    "    raw_x, raw_y = np.hsplit(raw_array, [-1])\n",
    "    return (fields, raw_x, raw_y)\n",
    "\n",
    "#def numpyLoader(file_in):\n",
    "#    raw_arr = np.genfromtxt(file_in, delimiter=',', names=True, max_rows=None)\n",
    "#    print raw_arr.names\n",
    "#    raw_x, raw_y = np.hsplit(raw_arr, [-1])\n",
    "#    return (raw_x, raw_y)\n",
    "#numpyLoader(TRAINING_DATA)\n",
    "\n",
    "def normalize(arr):\n",
    "    \"\"\"Normalize columns by z-score (mean 0, STD 1)\"\"\"\n",
    "    return (arr - arr.mean(axis=0))/arr.std(axis=0)\n",
    "\n",
    "def minMax(arr):\n",
    "    \"\"\"Scale columns [0,1] (range 1, midrange 0.5)\"\"\"\n",
    "    return (arr - arr.min(axis=0))/np.ptp(arr, axis=0)\n",
    "\n",
    "def minus1to1(arr):\n",
    "    \"\"\"Scale columns [-1,1] (range 2, midrange 0)\"\"\"\n",
    "    midrange = (arr.max(axis=0) + arr.min(axis=0))/2\n",
    "    half_range = np.ptp(arr, axis=0)/2\n",
    "    return (arr - midrange)/half_range\n",
    "\n",
    "\n",
    "def preprocessX(x, processing_fn):\n",
    "    return processing_fn(x.astype(np.float32))\n",
    "\n",
    "def encodeY(y_field):\n",
    "    \"\"\"Encode output as 2-D vector representing vote\"\"\"\n",
    "    output = map(float, [y_field == 'Barack Obama', y_field == 'Mitt Romney'])\n",
    "    # check that data conforms to binary voting options\n",
    "    assert sum(output) == 1\n",
    "    return output\n",
    "\n",
    "def encodeYs(ys):\n",
    "    \"\"\"Encode each output as 2-D vector representing vote\"\"\"\n",
    "    D_OUTPUTS = {'Barack Obama': [1.,0.], 'Mitt Romney': [0.,1.]}\n",
    "    return np.array([D_OUTPUTS[y] for y in ys])"
   ]
  },
  {
   "cell_type": "code",
   "execution_count": null,
   "metadata": {
    "collapsed": false
   },
   "outputs": [],
   "source": [
    "%matplotlib inline\n",
    "\n",
    "fields, x_in, y_in = loadData(TRAINING_DATA)\n",
    "\n",
    "#print np.apply_along_axis(encodeY, 0, y_in)\n",
    "\n",
    "#print np.array([encodeY(field) for field in y])\n",
    "#print x[:,:1]\n",
    "\n",
    "x = preprocessX(x_in, normalize)\n",
    "#x = preprocessX(x_in, minMax)\n",
    "#x = preprocessX(x_in, minus1to1)\n",
    "\n",
    "plt.plot(x)\n",
    "#plt.scatter(map(encodeY, y_in))"
   ]
  },
  {
   "cell_type": "code",
   "execution_count": null,
   "metadata": {
    "collapsed": false
   },
   "outputs": [],
   "source": [
    "def datastream_pd(file_in, norm_fn=normalize):\n",
    "    #import subprocess\n",
    "    raw_wc = subprocess.check_output([\"wc\",\"-l\",TRAINING_DATA])\n",
    "    n_data = int(raw_wc.split()[0]) - 1 # subtract header\n",
    "    \n",
    "    n_training = int(0.7*n_data)\n",
    "    \n",
    "    reader = pd.read_csv(file_in, chunksize=n_training)\n",
    "    raw_x = df.values[:,:-1]\n",
    "    raw_y = df.values[:,-1:]\n",
    "    return (norm_fn(raw_x).values.astype(np.float32),\n",
    "            encodeYs(list(raw_y)))"
   ]
  },
  {
   "cell_type": "code",
   "execution_count": null,
   "metadata": {
    "collapsed": false
   },
   "outputs": [],
   "source": [
    "% matplotlib inline\n",
    "def gaussianNorm(arr):\n",
    "    \"\"\"Normalize columns by z-score (mean 0, STD 1)\"\"\"\n",
    "    return (arr - arr.mean(axis=0))/arr.std(axis=0)\n",
    "\n",
    "def standardize(df, norm_fn, bound=None):\n",
    "    return df.apply(norm_fn, axis=0)\n",
    "    # TODO: bound ??\n",
    "    #return df.filter(regex='^[^(Winner)]').apply(norm_fn, axis=0)\n",
    "    #return df.select_dtypes(exclude=['object']).apply(norm_fn, axis=0)\n",
    "\n",
    "def dataIO(file_in, norm_fn = gaussianNorm):\n",
    "    df = pd.read_csv(file_in)\n",
    "    #df.isnull().any() # >> all False\n",
    "    \n",
    "    # encode categorical output as one-hot\n",
    "    global WINNERS; WINNERS = list(pd.get_dummies(df.Winner))\n",
    "    df = pd.get_dummies(df, columns=['Winner'])\n",
    "    \n",
    "    # split into training & validation\n",
    "    train = df.sample(frac=0.8)#, random_state=200)\n",
    "    validate = df.drop(train.index)\n",
    "    \n",
    "    def normalize(data, norm_fn):\n",
    "        xs_normed = standardize(data.filter(regex='^[^(Winner)]'), norm_fn)\n",
    "        ys = data.filter(regex='^Winner')\n",
    "        return pd.concat([xs_normed, ys], axis=1)\n",
    "    \n",
    "    #for data in (train, validate):\n",
    "        # standardize inputs\n",
    "        #xs_normed = standardizeInputs(data, norm_fn)\n",
    "        # sanity check\n",
    "        #print xs.mean(axis=0) # >> 0\n",
    "        #print xs.std(axis=0) # >> 1\n",
    "        #plt.plot(xs)\n",
    "        #ys = data.filter(regex='^Winner')\n",
    "        #pd.concat([xs_normed, ys], axis=1)\n",
    "        \n",
    "    return (normalize(data, norm_fn) for data in (train, validate))\n",
    "\n",
    "train, validate = dataIO(TRAINING_DATA)\n",
    "\n",
    "def minibatcherStream(df, size, max_iter = np.inf):\n",
    "    REGEX = {'features': '^[^(Winner)]', 'targets': '^Winner'}\n",
    "    len_ = len(df)\n",
    "    reps = 0\n",
    "    print 'bye'\n",
    "    while True:\n",
    "        if reps <= max_iter:\n",
    "            print 'hi'\n",
    "            for i in xrange(0, len_, size):\n",
    "                try:\n",
    "                    batched = df[i:i+size]\n",
    "                except(IndexError):\n",
    "                    batched = df[i:]\n",
    "                yield tuple(batched.filter(regex=REGEX[k]).values\n",
    "                            for k in ('features', 'targets'))\n",
    "            print 'finished data! shuffling..'\n",
    "            df = df.sample(frac=1).reset_index(drop=True) # shuffle\n",
    "            reps += 1\n",
    "        \n",
    "stream = minibatcherStream(train, 500)#, max_iter=3)\n",
    "stream2 = minibatcherStream(validate, 500)"
   ]
  },
  {
   "cell_type": "code",
   "execution_count": 107,
   "metadata": {
    "collapsed": false
   },
   "outputs": [
    {
     "name": "stdout",
     "output_type": "stream",
     "text": [
      "{'Mitt Romney': array([ 0.,  1.]), 'Barack Obama': array([ 1.,  0.])}\n"
     ]
    }
   ],
   "source": [
    "#WINNERS = ['Barack Obama', 'Mitt Romney']\n",
    "eye = np.eye(len(WINNERS))\n",
    "one_hot_encoder = {k: eye[i] for i,k in enumerate(WINNERS)}\n",
    "\n",
    "print one_hot_encoder\n",
    "\n",
    "#df.Winner = df.Winner.map(lambda w: one_hot_encoder[w])"
   ]
  },
  {
   "cell_type": "code",
   "execution_count": null,
   "metadata": {
    "collapsed": false
   },
   "outputs": [],
   "source": [
    "#pd.get_dummies(df, columns=['Winner'])\n",
    "\n",
    "encodedY = pd.get_dummies(df.Winner)\n",
    "\n",
    "WINNERS = list(encodedY)\n",
    "y_out = np.array([0,1])\n",
    "WINNERS[np.argmax(y_out)]\n",
    "#eye = np.eye(len(winners))\n",
    "#ONE_HOT_DECODER = {eye[i]: v for i,v in enumerate(winners)}\n",
    "\n",
    "#print ONE_HOT_DECODER\n",
    "\n",
    "pd.get_dummies(df, columns=['Winner'])\n",
    "df"
   ]
  },
  {
   "cell_type": "code",
   "execution_count": null,
   "metadata": {
    "collapsed": true
   },
   "outputs": [],
   "source": [
    "def loadData(file_in):\n",
    "    with open(file_in) as f:\n",
    "        fields = f.readline().strip().split(',')\n",
    "        raw_array = npimpor.array([line.split(',') for line in f.read().strip().split('\\n')])\n",
    "    raw_x, raw_y = np.hsplit(raw_array, [-1])\n",
    "    return (fields, raw_x, raw_y)\n",
    "\n",
    "def datastream_pd_normalize_by_minibatch(file_in, batch_size = 50):\n",
    "    reader = pd.read_csv(file_in, chunksize=batch_size, iterator=True)\n",
    "    for minibatch in itertools.cycle(reader):\n",
    "        raw_x = df.values[:,:-1].astype(np.float32)\n",
    "        raw_y = df.values[]\n",
    "        yield (raw_x, encodeYs(list(raw_y)))\n",
    "\n",
    "\n",
    "def datastream_pd_normalize_by_minibatch(file_in, batch_size = 50):\n",
    "    reader = pd.read_csv(file_in, chunksize=batch_size, iterator=True)\n",
    "    for minibatch in itertools.cycle(reader):\n",
    "        raw_x = df.values[:,:-1].astype(np.float32)\n",
    "        raw_y = df.values[]\n",
    "        yield (raw_x, encodeYs(list(raw_y)))\n",
    "\n",
    "\n",
    "\n",
    "def datastream(file_in, batch_size = 50):\n",
    "    with open(file_in) as f:\n",
    "        fields = f.readline().strip().split(',')\n",
    "        iter_raw = (line.split(',') for line in f.read().strip().split('\\n'))\n",
    "   #iterdata = iter(raw)\n",
    "\n",
    "        minibatcher = itertools.cycle(itertools.islice(iter_raw, batch_size))\n",
    "        while True:\n",
    "            minibatch = minibatcher.next()\n",
    "            print minibatch\n",
    "            raw_x, raw_y = np.hsplit(np.array(minibatch), [-1])\n",
    "            yield (raw_x, encodeYs(raw_y))\n",
    "\n",
    "\n",
    "def normalize_gaussian(arr):\n",
    "    \"\"\"Normalize columns by z-score (mean 0, STD 1)\"\"\"\n",
    "    return (arr - arr.mean(axis=0))/arr.std(axis=0)\n",
    "\n",
    "def preprocessX(x, processing_fn):\n",
    "    return processing_fn(x.astype(np.float32))\n",
    "\n",
    "def encodeYs(ys):\n",
    "    \"\"\"Encode each output as 2-D vector representing vote\"\"\"\n",
    "    D_OUTPUTS = {'Barack Obama': [1.,0.], 'Mitt Romney': [0.,1.]}\n",
    "    return np.array([D_OUTPUTS[y] for y in ys])\n",
    "\n",
    "# TODO: load and clean/normalize data\n",
    "FEATURES = 8 #len(fields) - 1 # all but classification\n",
    "\n",
    "def preprocessAndStream(datafile):\n",
    "    # TODO: chunk into training / validation sets\n",
    "    PERC_TRAINING = 0.7 # rest validation\n",
    "    n_minibatch = 50\n",
    "    return"
   ]
  },
  {
   "cell_type": "code",
   "execution_count": null,
   "metadata": {
    "collapsed": false
   },
   "outputs": [],
   "source": [
    "HYPERPARAMS = {'learning_rate': 0.1,\n",
    "               'n_minibatch': 1,\n",
    "               'n_hidden': 1, # n hidden layers\n",
    "               'dropout': 0}\n",
    "\n",
    "LAYERS = [('input', [n_minibatch, FEATURES]), # (name, shape)\n",
    "         ('hidden_1'), []]\n",
    "\n",
    "\n",
    "class model():\n",
    "    def __init__(self, learning_rate=None, n_minibatch=None, n_hidden=None, dropout=None):\n",
    "        self.learning_rate = learning_rate\n",
    "        self.n_minibatch = n_minibatch\n",
    "        self.n_hidden = n_hidden\n",
    "        self.dropout = dropout\n",
    "        \n",
    "        self.buildNN()\n",
    "        \n",
    "        with tf.Session() as sesh:\n",
    "            sesh.run(tf.initialize_all_variables())\n",
    "            state, out, cost = sesh.run()\n",
    "        \n",
    "        \n",
    "        \n",
    "    def buildNN(self):\n",
    "        # input layer\n",
    "        x = tf.placeholder(tf.float32, [n_minibatch, FEATURES])\n",
    "        \n",
    "        \n",
    "        # hidden layer/s\n",
    "        \n",
    "        \n",
    "        # output layer\n",
    "        y_ = tf.placeholder(tf.float32, [n_minibatch, 2])\n",
    "        \n",
    "\n",
    "\n",
    "class fullyConnectedLayer():\n",
    "    def __init__(self, input_size, output_size):\n",
    "        # initialize weights and biases\n",
    "        self.w = tf.Variable(tf.random_normal((input_size, output_size)),\n",
    "                            trainable=True)\n",
    "        self.b = tf.Variable(tf.zeros([output_size]), trainable=True)\n",
    "    def build(self, x_in, activation=tf.sigmoid):\n",
    "        return activation(tf.nn.xw_plus_b(x_in, self.w, self.b))\n",
    "\n",
    "\n",
    "# single input vector with bias\n",
    "#x_with_h = tf.concat(1, )"
   ]
  },
  {
   "cell_type": "code",
   "execution_count": null,
   "metadata": {
    "collapsed": true
   },
   "outputs": [],
   "source": [
    "# input columns minus output\n",
    "FEATURES = len(fields) - 1\n",
    "\n",
    "n_minibatch = 1\n",
    "n_hidden = 1\n",
    "\n",
    "x = tf.placeholder(tf.float32, [n_minibatch, FEATURES])\n",
    "y_ = tf.placeholder(tf.float32, [n_minibatch, 2])\n",
    "\n",
    "layers = [('input', [n_minibatch, FEATURES], [n_minibatch, FEATURES]) + [('hidden_{}'.format(i), n_minibatch, FEATURES)] + [('output', FEATURES, 2)]\n",
    "\n",
    "for i in xrange(1 + n_hidden): # n_layers = input + hidden\n",
    "    "
   ]
  },
  {
   "cell_type": "code",
   "execution_count": 8,
   "metadata": {
    "collapsed": false
   },
   "outputs": [
    {
     "data": {
      "text/plain": [
       "<matplotlib.axes._subplots.AxesSubplot at 0x7f4bdb3950d0>"
      ]
     },
     "execution_count": 8,
     "metadata": {},
     "output_type": "execute_result"
    },
    {
     "data": {
      "text/plain": [
       "<matplotlib.figure.Figure at 0x7f4bde2cfb50>"
      ]
     },
     "metadata": {},
     "output_type": "display_data"
    },
    {
     "data": {
      "image/png": "[encoded data removed]",
      "text/plain": [
       "<matplotlib.figure.Figure at 0x7f4bde31e390>"
      ]
     },
     "metadata": {},
     "output_type": "display_data"
    },
    {
     "data": {
      "image/png": "[encoded data removed]",
      "text/plain": [
       "<matplotlib.figure.Figure at 0x7f4bdb64efd0>"
      ]
     },
     "metadata": {},
     "output_type": "display_data"
    }
   ],
   "source": [
    "% matplotlib inline\n",
    "from build_model import OUTFILES, DataIO, gaussianNorm\n",
    "\n",
    "df = pd.read_csv(TRAINING_DATA)\n",
    "train, validate = (pd.read_csv(OUTFILES[k]).filter(regex='^[^Winner]') for k in ('train', 'validate'))\n",
    "\n",
    "plt.figure()\n",
    "train.plot(kind='box', vert=False)\n",
    "validate.plot(kind='box', vert=False)"
   ]
  },
  {
   "cell_type": "code",
   "execution_count": 20,
   "metadata": {
    "collapsed": false
   },
   "outputs": [
    {
     "data": {
      "text/plain": [
       "Total population             False\n",
       "Median age                   False\n",
       "% BachelorsDeg or higher     False\n",
       "Unemployment rate            False\n",
       "Per capita income            False\n",
       "Total households             False\n",
       "Average household size       False\n",
       "% Owner occupied housing     False\n",
       "% Renter occupied housing    False\n",
       "% Vacant housing             False\n",
       "Median home value            False\n",
       "Population growth            False\n",
       "House hold growth            False\n",
       "Per capita income growth     False\n",
       "Winner                       False\n",
       "dtype: bool"
      ]
     },
     "execution_count": 20,
     "metadata": {},
     "output_type": "execute_result"
    }
   ],
   "source": [
    "df.isnull().any()"
   ]
  },
  {
   "cell_type": "code",
   "execution_count": null,
   "metadata": {
    "collapsed": true
   },
   "outputs": [],
   "source": []
  }
 ],
 "metadata": {
  "kernelspec": {
   "display_name": "Python 2",
   "language": "python",
   "name": "python2"
  },
  "language_info": {
   "codemirror_mode": {
    "name": "ipython",
    "version": 2
   },
   "file_extension": ".py",
   "mimetype": "text/x-python",
   "name": "python",
   "nbconvert_exporter": "python",
   "pygments_lexer": "ipython2",
   "version": "2.7.11"
  }
 },
 "nbformat": 4,
 "nbformat_minor": 0
}
